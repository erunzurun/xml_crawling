{
 "cells": [
  {
   "cell_type": "code",
   "execution_count": null,
   "metadata": {},
   "outputs": [],
   "source": [
    "import sys\n",
    "import os\n",
    "import xml.etree.ElementTree as Et\n",
    "from xml.etree.ElementTree import Element, ElementTree"
   ]
  },
  {
   "cell_type": "code",
   "execution_count": null,
   "metadata": {},
   "outputs": [],
   "source": [
    "import requests\n",
    "from pandas import DataFrame\n",
    "from bs4 import BeautifulSoup\n",
    "import re\n",
    "from datetime import datetime\n",
    "import os\n",
    "import xml.etree.ElementTree as Et\n",
    "from xml.etree.ElementTree import Element, ElementTree"
   ]
  },
  {
   "cell_type": "code",
   "execution_count": null,
   "metadata": {},
   "outputs": [],
   "source": [
    "path_dir = \"\"\n",
    "\n",
    "save_dir = \"\"\n",
    "\n",
    "file_list = os.listdir(path_dir)"
   ]
  },
  {
   "cell_type": "markdown",
   "metadata": {},
   "source": [
    "# **case 1**"
   ]
  },
  {
   "cell_type": "code",
   "execution_count": null,
   "metadata": {},
   "outputs": [],
   "source": [
    "for c in file_list:\n",
    "    with open(path_dir + c, \"r\", encoding='utf-8') as xml:\n",
    "        tree = Et.parse(xml)\n",
    "        root = tree.getroot()\n",
    "\n",
    "    d = c.replace('.xml', '.txt')\n",
    "    with open(save_dir + d, \"w\", encoding='utf-8') as fw:\n",
    "        \n",
    "        object = root.findall(\"object\")\n",
    "        size = root.find(\"size\")\n",
    "        \n",
    "        width = size.find(\"width\").text\n",
    "        height = size.find(\"height\").text\n",
    "        \n",
    "        width = float(width)\n",
    "        height = float(height)\n",
    "        \n",
    "#         print(width, height)\n",
    "        \n",
    "        count = 1\n",
    "        name = \"\"\n",
    "        xmin = \"\"\n",
    "        ymin = \"\"\n",
    "        xmax = \"\"\n",
    "        ymax = \"\"\n",
    "\n",
    "        while object:\n",
    "            for j in object:\n",
    "                count = 1\n",
    "                name = j.find(\"name\").text\n",
    "                xmin = j.find(\"bndbox\").find(\"xmin\").text\n",
    "                xmax = j.find(\"bndbox\").find(\"xmax\").text\n",
    "                ymin = j.find(\"bndbox\").find(\"ymin\").text\n",
    "                ymax = j.find(\"bndbox\").find(\"ymax\").text\n",
    "                \n",
    "                xmin = float(xmin)\n",
    "                xmax = float(xmax)\n",
    "                ymin = float(ymin)\n",
    "                ymax = float(ymax)\n",
    "                \n",
    "                x_center = float((float(xmax + xmin)/2)/width)\n",
    "                y_center = float((float(ymax + ymin)/2)/height)\n",
    "                \n",
    "                w = float((xmax - xmin)/width)\n",
    "                h = float((ymax - ymin)/height)\n",
    "   \n",
    "                fw.write(name)\n",
    "                fw.write(\" \")\n",
    "                fw.write(str(x_center))\n",
    "                fw.write(\" \")\n",
    "                fw.write(str(y_center))\n",
    "                fw.write(\" \")\n",
    "                fw.write(str(w))\n",
    "                fw.write(\" \")\n",
    "                fw.write(str(h))\n",
    "                fw.write(\"\\n\")\n",
    "                \n",
    "            break"
   ]
  },
  {
   "cell_type": "markdown",
   "metadata": {},
   "source": [
    "# **case 2**"
   ]
  },
  {
   "cell_type": "code",
   "execution_count": null,
   "metadata": {},
   "outputs": [],
   "source": [
    "path_dir = \"\"\n",
    "\n",
    "\n",
    "save_dir = \"\"\n",
    "\n",
    "file_list = os.listdir(path_dir)"
   ]
  },
  {
   "cell_type": "code",
   "execution_count": null,
   "metadata": {},
   "outputs": [],
   "source": [
    "for c in file_list:\n",
    "    with open(path_dir + c, \"r\", encoding='utf-8') as xml:\n",
    "        tree = Et.parse(xml)\n",
    "        root = tree.getroot()\n",
    "\n",
    "    d = c.replace('.xml', '.txt')\n",
    "    with open(save_dir + d, \"w\", encoding='utf-8') as fw:\n",
    "        for x in root:\n",
    "            name = \"\"\n",
    "            x_center = \"\"\n",
    "            y_center = \"\"\n",
    "            w = \"\"\n",
    "            h = \"\"\n",
    "        #     print(x.tag, x.attrib, x.text)\n",
    "            for y in x:\n",
    "                qwe = y.attrib\n",
    "        #         print(qwe)\n",
    "                while qwe:\n",
    "                    name = qwe['name']\n",
    "                    break\n",
    "        #         print(y.tag, y.attrib, y.text)\n",
    "                for z in y:\n",
    "                    asd= z.attrib\n",
    "                    while asd:\n",
    "                        x_center = ((float(asd['x1']) + float(asd['x2'])) / 2) \n",
    "                        y_center = ((float(asd['y1']) + float(asd['y2'])) / 2)\n",
    "                        w = (float(asd['x2']) - float(asd['x1']))\n",
    "                        h = (float(asd['y2']) - float(asd['y1']))\n",
    "                        break\n",
    "                    x_center = round(x_center, 8)\n",
    "                    y_center = round(y_center, 8)\n",
    "                    w = round(w, 8)\n",
    "                    h = round(h, 8)\n",
    "                    \n",
    "                    fw.write(name)\n",
    "                    fw.write(\" \")\n",
    "                    fw.write(str(x_center))\n",
    "                    fw.write(\" \")\n",
    "                    fw.write(str(y_center))\n",
    "                    fw.write(\" \")\n",
    "                    fw.write(str(w))\n",
    "                    fw.write(\" \")\n",
    "                    fw.write(str(h))\n",
    "                    fw.write(\"\\n\")\n",
    "\n"
   ]
  }
 ],
 "metadata": {
  "kernelspec": {
   "display_name": "Python 3",
   "language": "python",
   "name": "python3"
  },
  "language_info": {
   "codemirror_mode": {
    "name": "ipython",
    "version": 3
   },
   "file_extension": ".py",
   "mimetype": "text/x-python",
   "name": "python",
   "nbconvert_exporter": "python",
   "pygments_lexer": "ipython3",
   "version": "3.8.5"
  }
 },
 "nbformat": 4,
 "nbformat_minor": 5
}
